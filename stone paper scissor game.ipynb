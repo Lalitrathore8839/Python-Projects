{
 "cells": [
  {
   "cell_type": "code",
   "execution_count": 1,
   "id": "501c8b98-1bd4-41ca-8e99-27481a5d32e8",
   "metadata": {},
   "outputs": [],
   "source": [
    "def rcp():\n",
    "    import random\n",
    "    you=0\n",
    "    computer=0   \n",
    "    for i in range(1,6):\n",
    "        \n",
    "        your_tern=input(\"enter your choice:\")\n",
    "        computer_tern=random.choice([\"stone\",\"paper\",\"scissor\"])\n",
    "        print(f\"computer choice:{computer_tern}\")\n",
    "        if your_tern.lower()==\"stone\" and computer_tern==\"stone\":\n",
    "            print(\"tied\")\n",
    "        elif your_tern.lower()==\"stone\" and computer_tern==\"paper\":\n",
    "            computer=computer+1\n",
    "            print(\"computer win\")\n",
    "        elif your_tern.lower()==\"stone\" and computer_tern==\"scissor\":\n",
    "            you=you+1\n",
    "            print(\"you win\")\n",
    "        elif your_tern.lower()==\"paper\" and computer_tern==\"stone\":\n",
    "            you=you+1\n",
    "            print(\"you win\")\n",
    "        elif your_tern.lower()==\"paper\" and computer_tern==\"paper\":\n",
    "            print(\"tied\")\n",
    "        elif your_tern.lower()==\"paper\" and computer_tern==\"scissor\":\n",
    "            computer=computer+1\n",
    "            print(\"computer win\")\n",
    "        elif your_tern.lower()==\"scissor\" and computer_tern==\"stone\":\n",
    "            computer=computer+1\n",
    "            print(\"computer win\")\n",
    "        elif your_tern.lower()==\"scissor\" and computer_tern==\"paper\":\n",
    "            you=you+1\n",
    "            print(\"you win\")\n",
    "        elif your_tern.lower()==\"scissor\" and computer_tern==\"scissor\":\n",
    "            print(\"tied\")\n",
    "        else:\n",
    "            print(\"wrong choice\")\n",
    "        print(\"your point is:\",you,\"computer point is:\",computer)\n",
    "        "
   ]
  },
  {
   "cell_type": "code",
   "execution_count": null,
   "id": "ed0ab623-08c3-4447-bd4b-92fd726b813b",
   "metadata": {},
   "outputs": [],
   "source": []
  }
 ],
 "metadata": {
  "kernelspec": {
   "display_name": "Python 3 (ipykernel)",
   "language": "python",
   "name": "python3"
  },
  "language_info": {
   "codemirror_mode": {
    "name": "ipython",
    "version": 3
   },
   "file_extension": ".py",
   "mimetype": "text/x-python",
   "name": "python",
   "nbconvert_exporter": "python",
   "pygments_lexer": "ipython3",
   "version": "3.10.9"
  }
 },
 "nbformat": 4,
 "nbformat_minor": 5
}
